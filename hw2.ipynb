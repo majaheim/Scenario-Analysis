{
 "cells": [
  {
   "cell_type": "code",
   "execution_count": 1,
   "metadata": {
    "pycharm": {
     "is_executing": true
    }
   },
   "outputs": [
    {
     "data": {
      "application/javascript": [
       "if (typeof IPython !== 'undefined') { IPython.OutputArea.prototype._should_scroll = function(lines){ return false; }}"
      ],
      "text/plain": [
       "<IPython.core.display.Javascript object>"
      ]
     },
     "metadata": {},
     "output_type": "display_data"
    }
   ],
   "source": [
    "# import packages\n",
    "import pyam\n",
    "import numpy as np\n",
    "import matplotlib.pyplot as plt\n"
   ]
  },
  {
   "cell_type": "code",
   "execution_count": 2,
   "metadata": {
    "pycharm": {
     "is_executing": true
    }
   },
   "outputs": [
    {
     "name": "stderr",
     "output_type": "stream",
     "text": [
      "pyam - INFO: Running in a notebook, setting up a basic logging at level INFO\n",
      "pyam.core - INFO: Reading file ar6_snapshot_1682242227.xlsx\n"
     ]
    },
    {
     "name": "stdout",
     "output_type": "stream",
     "text": [
      "<class 'pyam.core.IamDataFrame'>\n",
      "Index:\n",
      " * model    : AIM/CGE 2.2, GEM-E3_V2021, IMAGE 3.2, ... WITCH 5.0 (10)\n",
      " * scenario : CD-LINKS_NPi2020_400 (version: 1), ... (52)\n",
      "Timeseries data coordinates:\n",
      "   region   : Eastern and Western Europe (i.e., the EU28) (1)\n",
      "   variable : Secondary Energy|Electricity (1)\n",
      "   unit     : EJ/yr (1)\n",
      "   year     : 2000, 2005, 2010, 2015, 2020, 2021, 2022, 2023, ... 2100 (25)\n",
      "Meta indicators:\n",
      "   exclude (bool) False (1)\n"
     ]
    },
    {
     "data": {
      "text/plain": [
       "['EN_NPi2020_450 (version: 1)',\n",
       " 'EN_NPi2020_500 (version: 1)',\n",
       " 'EN_NPi2020_600_COV (version: 1)',\n",
       " 'EN_NPi2020_600_DR1p (version: 1)',\n",
       " 'EN_NPi2020_600_DR2p (version: 1)',\n",
       " 'EN_NPi2020_600_DR3p (version: 1)',\n",
       " 'EN_NPi2020_600_DR4p (version: 1)',\n",
       " 'NGFS2_Divergent Net Zero Policies (version: 1)',\n",
       " 'NGFS2_Net-Zero 2050 (version: 1)',\n",
       " 'COV_GreenPush_550 (version: 1)',\n",
       " 'COV_NoPolicyNoCOVID_550 (version: 1)',\n",
       " 'COV_Restore_550 (version: 1)',\n",
       " 'COV_SelfReliance_550 (version: 1)',\n",
       " 'COV_SmartUse_550 (version: 1)']"
      ]
     },
     "execution_count": 2,
     "metadata": {},
     "output_type": "execute_result"
    }
   ],
   "source": [
    "df = pyam.IamDataFrame(data='ar6_snapshot_1682242227.xlsx')\n",
    "print(df)\n",
    "df.filter(model='MESSAGE*').scenario"
   ]
  },
  {
   "cell_type": "code",
   "execution_count": null,
   "metadata": {},
   "outputs": [],
   "source": []
  }
 ],
 "metadata": {
  "kernelspec": {
   "display_name": "Python 3 (ipykernel)",
   "language": "python",
   "name": "python3"
  },
  "language_info": {
   "codemirror_mode": {
    "name": "ipython",
    "version": 3
   },
   "file_extension": ".py",
   "mimetype": "text/x-python",
   "name": "python",
   "nbconvert_exporter": "python",
   "pygments_lexer": "ipython3",
   "version": "3.9.13"
  }
 },
 "nbformat": 4,
 "nbformat_minor": 1
}
